{
  "nbformat": 4,
  "nbformat_minor": 0,
  "metadata": {
    "colab": {
      "provenance": []
    },
    "kernelspec": {
      "name": "python3",
      "display_name": "Python 3"
    },
    "language_info": {
      "name": "python"
    }
  },
  "cells": [
    {
      "cell_type": "markdown",
      "source": [
        "# Beam Splitter"
      ],
      "metadata": {
        "id": "tmXaJCdtTKvZ"
      }
    },
    {
      "cell_type": "markdown",
      "source": [
        "Simularemos el efecto de un Divisór de haz 50/50 para estados aleatorios de 2 fotones."
      ],
      "metadata": {
        "id": "GNYuchLmTBBI"
      }
    },
    {
      "cell_type": "code",
      "execution_count": 1,
      "metadata": {
        "id": "kOXKiXsrTAQl"
      },
      "outputs": [],
      "source": [
        "from itertools import combinations\n",
        "import random\n",
        "from random import randint\n",
        "import numpy as np\n",
        "import matplotlib.pyplot as plt"
      ]
    },
    {
      "cell_type": "code",
      "source": [
        "#Creamos una fuente de estados |00>, |1,0>, |0,1> y |11> aleatorios\n",
        "\n",
        "#i = No. de fotones que queremos aventar\n",
        "i = int(1000)\n",
        "P = [random.randint(0, 1) for _ in range(i)]\n",
        "print(P)\n",
        "N = len(P)/2\n",
        "K = 2\n",
        "arr = np.array(P)\n",
        "np.random.shuffle(arr)\n",
        "\n",
        "\n",
        "num_el = N * K\n",
        "if num_el > len(arr):\n",
        "    arr = np.tile(arr, num_el // len(arr) + 1)[:num_el]\n",
        "\n",
        "res = np.split(arr, N)\n",
        "res = [sublist.tolist() for sublist in res]\n",
        "\n",
        "print(\"Lista de estados: \" + str(res))\n"
      ],
      "metadata": {
        "colab": {
          "base_uri": "https://localhost:8080/"
        },
        "id": "eWVmrvLzTT4I",
        "outputId": "497beb5e-4caa-424c-8377-f00fb95217af"
      },
      "execution_count": 2,
      "outputs": [
        {
          "output_type": "stream",
          "name": "stdout",
          "text": [
            "[0, 1, 0, 1, 0, 0, 1, 0, 1, 0, 1, 1, 0, 1, 0, 0, 0, 0, 1, 1, 1, 1, 0, 1, 0, 1, 1, 1, 1, 1, 0, 1, 1, 0, 0, 1, 1, 0, 1, 0, 1, 0, 0, 0, 1, 0, 1, 1, 0, 1, 1, 1, 1, 0, 0, 0, 0, 1, 0, 1, 0, 0, 0, 0, 0, 0, 1, 1, 0, 1, 0, 0, 0, 1, 1, 1, 0, 0, 0, 0, 0, 0, 1, 1, 1, 0, 1, 0, 0, 1, 1, 1, 0, 0, 0, 0, 0, 1, 1, 1, 1, 0, 0, 1, 0, 0, 1, 1, 0, 0, 1, 0, 0, 0, 1, 0, 0, 1, 1, 1, 0, 1, 0, 0, 1, 0, 0, 1, 0, 1, 0, 0, 0, 0, 1, 1, 1, 0, 0, 0, 1, 0, 1, 0, 1, 0, 0, 1, 1, 1, 1, 1, 0, 1, 1, 1, 1, 0, 1, 0, 0, 0, 0, 0, 0, 0, 0, 1, 0, 0, 0, 1, 1, 1, 0, 1, 1, 0, 1, 0, 0, 0, 1, 1, 1, 0, 0, 0, 1, 1, 1, 0, 1, 0, 0, 1, 0, 1, 0, 0, 0, 1, 1, 1, 1, 1, 1, 0, 1, 1, 0, 0, 0, 0, 1, 0, 0, 1, 0, 1, 0, 0, 1, 0, 1, 1, 0, 0, 0, 1, 0, 1, 0, 1, 0, 1, 1, 0, 0, 1, 1, 1, 1, 0, 1, 0, 0, 1, 0, 0, 1, 0, 0, 0, 1, 1, 1, 1, 1, 0, 0, 0, 1, 1, 0, 1, 1, 1, 1, 0, 1, 0, 0, 1, 1, 0, 1, 1, 0, 1, 1, 1, 0, 0, 1, 0, 0, 0, 0, 1, 0, 1, 1, 0, 0, 1, 0, 0, 0, 1, 1, 1, 1, 0, 0, 0, 0, 0, 0, 1, 1, 1, 1, 0, 0, 0, 0, 0, 1, 1, 1, 1, 0, 1, 0, 1, 0, 1, 1, 1, 1, 1, 1, 0, 1, 0, 0, 1, 1, 1, 0, 1, 0, 1, 0, 1, 1, 0, 1, 0, 0, 1, 0, 1, 0, 1, 1, 1, 1, 1, 0, 1, 0, 0, 1, 1, 1, 1, 0, 1, 1, 0, 1, 1, 0, 1, 0, 1, 1, 0, 1, 1, 1, 1, 1, 1, 1, 0, 1, 0, 1, 0, 0, 0, 1, 0, 1, 1, 0, 1, 0, 0, 0, 0, 0, 1, 1, 0, 0, 1, 1, 1, 1, 1, 1, 0, 0, 1, 1, 0, 0, 0, 0, 0, 1, 1, 0, 1, 0, 0, 0, 1, 0, 1, 0, 0, 0, 0, 0, 0, 0, 1, 0, 0, 1, 1, 1, 1, 1, 0, 1, 1, 1, 0, 0, 0, 1, 0, 1, 0, 0, 0, 0, 1, 1, 1, 1, 1, 1, 1, 1, 1, 0, 0, 0, 1, 0, 1, 1, 0, 1, 1, 0, 1, 1, 1, 1, 0, 1, 0, 0, 1, 1, 1, 0, 1, 1, 1, 1, 0, 1, 0, 0, 0, 0, 0, 1, 1, 0, 1, 0, 0, 1, 0, 1, 0, 1, 0, 0, 1, 1, 1, 1, 1, 0, 0, 0, 0, 1, 0, 1, 1, 1, 0, 1, 0, 0, 1, 0, 1, 0, 0, 1, 0, 0, 1, 0, 0, 0, 0, 0, 0, 0, 1, 0, 1, 1, 0, 0, 1, 0, 0, 1, 0, 1, 0, 0, 0, 0, 1, 0, 0, 0, 0, 0, 0, 1, 1, 0, 0, 0, 0, 1, 1, 0, 1, 1, 1, 1, 0, 1, 0, 1, 1, 1, 0, 1, 1, 0, 0, 0, 0, 0, 1, 0, 0, 0, 0, 1, 1, 0, 1, 1, 0, 0, 1, 1, 0, 1, 1, 0, 0, 1, 0, 1, 0, 1, 0, 0, 0, 1, 1, 0, 0, 1, 1, 0, 1, 1, 0, 0, 0, 0, 0, 1, 1, 0, 1, 0, 1, 0, 0, 1, 1, 1, 0, 0, 1, 0, 0, 1, 1, 0, 1, 0, 1, 0, 0, 1, 0, 0, 0, 1, 1, 0, 0, 0, 0, 1, 0, 0, 0, 1, 1, 0, 0, 1, 1, 1, 0, 1, 0, 0, 0, 0, 1, 0, 1, 0, 1, 1, 0, 1, 0, 1, 0, 0, 0, 1, 1, 0, 0, 1, 0, 0, 1, 0, 0, 0, 0, 1, 0, 1, 0, 0, 1, 1, 0, 1, 1, 1, 0, 0, 0, 1, 0, 1, 1, 1, 0, 1, 1, 1, 1, 0, 1, 1, 1, 0, 1, 1, 1, 0, 0, 1, 1, 0, 1, 0, 1, 1, 1, 0, 1, 1, 0, 1, 1, 0, 0, 0, 1, 1, 0, 1, 1, 1, 1, 1, 1, 1, 1, 1, 1, 1, 0, 1, 1, 0, 1, 0, 0, 0, 1, 1, 0, 1, 0, 0, 0, 0, 1, 1, 0, 1, 0, 0, 0, 0, 0, 1, 0, 0, 1, 1, 0, 1, 1, 1, 1, 0, 1, 0, 1, 0, 0, 0, 0, 1, 0, 0, 0, 1, 1, 0, 0, 0, 1, 1, 1, 0, 1, 0, 0, 0, 1, 1, 0, 1, 0, 0, 1, 1, 0, 0, 1, 0, 0, 1, 1, 1, 1, 0, 0, 0, 1, 1, 0, 0, 1, 0, 0, 0, 0, 0, 0, 1, 1, 1, 0, 1, 1, 1, 1, 0, 1, 1, 1, 1, 0, 0, 0, 0, 0, 1, 0, 1, 0, 0, 1, 1, 1, 0, 0, 0, 1, 0, 0, 0, 1, 0, 1, 0, 0, 0, 1, 0, 1, 1, 0, 1, 1, 0, 1, 0, 0, 1, 0, 0, 1, 1, 1, 0, 0, 0, 0, 1, 0, 1, 0, 0, 0, 0, 1, 1, 1, 1, 1, 0, 1, 0, 1, 0, 1, 0, 1, 0, 1, 0, 1, 0, 0, 1, 0, 1, 0, 0, 0, 1, 1, 1, 1, 0, 1, 0, 1, 0, 1, 0, 1, 0, 0, 0, 0, 1, 0, 1, 0, 0, 1, 1, 1, 1, 1, 1, 1, 0, 0, 1, 1]\n",
            "Lista de estados: [[1, 1], [1, 1], [0, 0], [1, 1], [0, 0], [1, 0], [0, 0], [1, 0], [1, 0], [1, 0], [1, 0], [0, 0], [1, 1], [1, 0], [0, 1], [1, 0], [1, 1], [1, 0], [0, 0], [1, 0], [0, 1], [0, 1], [0, 1], [0, 1], [0, 1], [1, 0], [1, 1], [1, 1], [0, 1], [0, 1], [1, 0], [1, 0], [0, 1], [1, 1], [0, 0], [1, 1], [0, 0], [0, 1], [1, 1], [1, 1], [0, 1], [1, 0], [1, 0], [0, 1], [1, 0], [1, 0], [0, 1], [1, 0], [0, 1], [1, 1], [1, 0], [0, 1], [0, 1], [1, 1], [1, 1], [0, 1], [1, 1], [0, 1], [0, 0], [1, 1], [0, 0], [0, 0], [1, 1], [1, 1], [0, 1], [0, 1], [0, 0], [0, 0], [1, 0], [0, 1], [1, 1], [1, 1], [1, 1], [1, 1], [0, 0], [0, 0], [1, 0], [0, 0], [0, 0], [0, 1], [1, 0], [1, 0], [1, 1], [0, 0], [0, 1], [0, 0], [0, 0], [1, 0], [0, 0], [1, 0], [1, 1], [1, 1], [0, 1], [0, 0], [0, 1], [1, 0], [0, 0], [1, 0], [0, 0], [1, 1], [1, 1], [1, 1], [1, 1], [1, 0], [1, 0], [1, 0], [1, 0], [1, 1], [0, 0], [0, 1], [1, 0], [0, 1], [1, 1], [1, 0], [0, 0], [1, 1], [0, 0], [1, 0], [0, 1], [1, 0], [1, 1], [0, 1], [1, 0], [0, 1], [0, 1], [1, 1], [0, 1], [0, 1], [0, 0], [0, 1], [1, 0], [1, 0], [0, 0], [0, 1], [0, 0], [0, 1], [1, 0], [0, 1], [0, 1], [0, 0], [0, 0], [1, 0], [1, 1], [0, 0], [0, 1], [0, 0], [1, 0], [1, 1], [1, 1], [0, 1], [0, 0], [1, 1], [0, 0], [0, 1], [1, 1], [1, 0], [1, 0], [1, 0], [1, 1], [0, 1], [0, 1], [1, 0], [0, 1], [1, 0], [0, 0], [0, 0], [0, 1], [0, 0], [1, 0], [0, 0], [0, 0], [1, 1], [1, 0], [1, 0], [0, 0], [1, 0], [1, 1], [1, 1], [1, 0], [0, 1], [0, 1], [1, 0], [0, 1], [0, 1], [0, 1], [1, 0], [0, 1], [1, 0], [1, 0], [1, 0], [0, 1], [1, 0], [0, 1], [1, 0], [1, 1], [1, 1], [1, 1], [0, 0], [0, 0], [1, 0], [1, 1], [0, 0], [1, 1], [0, 1], [1, 1], [0, 1], [0, 0], [0, 0], [0, 0], [0, 1], [1, 1], [0, 0], [1, 0], [0, 0], [1, 0], [0, 1], [0, 0], [0, 0], [0, 0], [1, 1], [1, 0], [0, 0], [0, 1], [1, 1], [0, 0], [0, 1], [1, 1], [0, 1], [1, 0], [1, 0], [0, 0], [0, 1], [1, 0], [1, 1], [1, 1], [0, 1], [0, 0], [0, 0], [0, 1], [1, 0], [1, 1], [1, 1], [1, 0], [1, 0], [1, 0], [0, 0], [0, 1], [1, 0], [0, 0], [1, 1], [0, 0], [0, 1], [0, 0], [0, 1], [0, 0], [1, 1], [0, 0], [1, 1], [0, 1], [1, 1], [1, 1], [0, 1], [0, 1], [1, 0], [0, 0], [0, 1], [0, 0], [0, 1], [1, 0], [1, 1], [1, 1], [1, 0], [1, 0], [0, 1], [0, 1], [0, 1], [0, 0], [1, 1], [0, 1], [0, 1], [0, 1], [0, 0], [1, 1], [1, 1], [1, 0], [1, 0], [1, 0], [1, 0], [0, 1], [0, 0], [1, 1], [1, 1], [1, 1], [1, 0], [0, 1], [0, 1], [0, 0], [1, 1], [0, 1], [0, 0], [1, 0], [0, 1], [1, 0], [1, 1], [1, 0], [1, 1], [0, 0], [0, 1], [1, 1], [1, 0], [1, 1], [0, 0], [1, 1], [1, 0], [1, 0], [1, 0], [0, 1], [1, 0], [0, 1], [0, 1], [0, 0], [0, 1], [0, 0], [0, 0], [0, 1], [0, 0], [1, 1], [1, 0], [1, 1], [1, 1], [0, 0], [0, 0], [1, 0], [0, 0], [0, 0], [1, 0], [0, 0], [0, 0], [0, 1], [1, 1], [1, 0], [0, 0], [1, 1], [1, 1], [1, 1], [1, 0], [1, 0], [0, 1], [1, 0], [1, 1], [0, 0], [1, 1], [0, 0], [0, 0], [0, 0], [0, 1], [1, 0], [0, 0], [0, 1], [0, 1], [0, 1], [1, 0], [0, 0], [0, 0], [1, 1], [0, 0], [1, 1], [1, 0], [1, 0], [0, 0], [1, 0], [0, 1], [0, 1], [1, 1], [1, 0], [0, 0], [0, 1], [1, 0], [1, 1], [1, 1], [1, 1], [1, 0], [0, 0], [0, 1], [0, 0], [1, 0], [1, 1], [0, 0], [0, 1], [1, 0], [0, 0], [0, 1], [0, 0], [0, 1], [1, 0], [1, 1], [0, 0], [0, 1], [1, 0], [1, 1], [1, 0], [0, 1], [0, 0], [0, 1], [0, 0], [0, 1], [0, 1], [1, 0], [1, 0], [1, 0], [0, 1], [1, 1], [0, 1], [1, 0], [1, 0], [1, 0], [0, 0], [1, 0], [0, 0], [1, 0], [0, 0], [0, 1], [1, 1], [1, 1], [1, 1], [0, 0], [0, 0], [0, 0], [0, 0], [1, 1], [0, 0], [0, 0], [1, 1], [0, 0], [0, 0], [0, 1], [0, 1], [0, 0], [1, 1], [1, 1], [0, 1], [0, 1], [0, 1], [1, 0], [0, 1], [1, 1], [1, 0], [0, 1], [1, 1], [1, 1], [0, 0], [0, 1], [0, 0], [0, 1], [1, 0], [0, 0], [1, 0], [0, 1], [1, 0], [0, 1], [1, 1], [0, 1], [0, 1], [0, 1], [1, 0], [0, 0], [1, 1], [0, 1], [1, 0], [0, 1], [1, 0], [0, 0], [1, 0], [0, 0], [1, 0], [1, 1], [0, 0], [0, 1], [1, 0], [1, 1], [1, 1], [1, 0], [1, 1], [0, 0], [0, 0], [0, 1], [1, 0], [1, 1], [0, 1], [0, 1], [0, 1], [1, 1], [0, 1], [1, 1], [0, 1], [1, 1], [1, 1], [1, 0], [0, 0], [1, 0]]\n"
          ]
        }
      ]
    },
    {
      "cell_type": "markdown",
      "source": [
        "Observemos como se genera una lista de 500 estados de dos fotones"
      ],
      "metadata": {
        "id": "8rmJcQaJTXJW"
      }
    },
    {
      "cell_type": "code",
      "source": [
        "# Beam splitter\n",
        "bs = np.array([[1/np.sqrt(2), 1j/np.sqrt(2)], [1j/np.sqrt(2), 1/np.sqrt(2)]])\n",
        "\n",
        "#Preparamos un recorrido por todos los estados aletorios que generamos\n",
        "for i in res:\n",
        "  initial_state = i\n",
        "  final_state=[]\n",
        "  n = np.dot(bs, initial_state)\n",
        "  final_state.append(n)\n",
        "print(final_state)\n",
        "\n",
        "probabilities = np.abs(final_state)**2\n",
        "print(probabilities)"
      ],
      "metadata": {
        "colab": {
          "base_uri": "https://localhost:8080/"
        },
        "id": "i4FJSMgvTV6K",
        "outputId": "2106d5ee-577a-42b8-ba76-26b26f841166"
      },
      "execution_count": 3,
      "outputs": [
        {
          "output_type": "stream",
          "name": "stdout",
          "text": [
            "[array([0.70710678+0.j        , 0.        +0.70710678j])]\n",
            "[[0.5 0.5]]\n"
          ]
        }
      ]
    },
    {
      "cell_type": "code",
      "source": [
        "# Ploteamos las probabilidades\n",
        "plt.bar([0, 1], probabilities[0])\n",
        "\n",
        "plt.xticks([0, 1], ['|0>', '|1>'])\n",
        "plt.ylabel('Probabilidad')\n",
        "plt.show()"
      ],
      "metadata": {
        "colab": {
          "base_uri": "https://localhost:8080/",
          "height": 430
        },
        "id": "9ztOP16vTjUj",
        "outputId": "00660946-1bba-45fd-da92-d714a5cc2ceb"
      },
      "execution_count": 4,
      "outputs": [
        {
          "output_type": "display_data",
          "data": {
            "text/plain": [
              "<Figure size 640x480 with 1 Axes>"
            ],
            "image/png": "[encoded data removed]"
          },
          "metadata": {}
        }
      ]
    },
    {
      "cell_type": "markdown",
      "source": [
        "# Codigo de un BS 70/30"
      ],
      "metadata": {
        "id": "Ej1UUJjSTpSP"
      }
    },
    {
      "cell_type": "code",
      "source": [
        "# Con estado fijo\n",
        "bs = np.array([[np.sqrt(0.7),np.sqrt(0.3)], [np.sqrt(0.3), -np.sqrt(0.7)]])\n",
        "initial_state = np.array([0, 1])\n",
        "\n",
        "final_state = np.dot(bs, initial_state)\n",
        "print(final_state)\n",
        "\n",
        "probabilities = np.abs(final_state)**2\n",
        "print(probabilities)\n",
        "\n",
        "plt.bar([0, 1], probabilities)\n",
        "plt.xticks([0, 1], [' 0', '1'])\n",
        "plt.ylabel('Probabilidad')\n",
        "plt.show()"
      ],
      "metadata": {
        "colab": {
          "base_uri": "https://localhost:8080/",
          "height": 466
        },
        "id": "T0nRWhi9Toqb",
        "outputId": "35341f66-e6bc-468a-da96-eb0fdec46adb"
      },
      "execution_count": 5,
      "outputs": [
        {
          "output_type": "stream",
          "name": "stdout",
          "text": [
            "[ 0.54772256 -0.83666003]\n",
            "[0.3 0.7]\n"
          ]
        },
        {
          "output_type": "display_data",
          "data": {
            "text/plain": [
              "<Figure size 640x480 with 1 Axes>"
            ],
            "image/png": "[encoded data removed]"
          },
          "metadata": {}
        }
      ]
    }
  ]
}